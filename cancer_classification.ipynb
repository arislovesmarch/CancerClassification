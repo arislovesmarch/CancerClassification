{
 "cells": [
  {
   "cell_type": "code",
   "execution_count": 15,
   "id": "d02038a6-2b23-4484-ab28-6b2a498e53d2",
   "metadata": {},
   "outputs": [
    {
     "name": "stdout",
     "output_type": "stream",
     "text": [
      "0.9736842105263158\n",
      "0.9787234042553191\n",
      "0.9583333333333334\n",
      "[[65  1]\n",
      " [ 2 46]]\n",
      "0.9736842105263158\n",
      "0.967741935483871\n",
      "[[66  0]\n",
      " [ 3 45]]\n"
     ]
    }
   ],
   "source": [
    "import pandas as pd\n",
    "import numpy as np\n",
    "import matplotlib.pyplot as plt\n",
    "from sklearn.preprocessing import StandardScaler\n",
    "from sklearn.linear_model import LogisticRegression\n",
    "from sklearn.svm import SVC\n",
    "from sklearn.model_selection import train_test_split, RandomizedSearchCV, RepeatedStratifiedKFold\n",
    "from sklearn.metrics import accuracy_score, confusion_matrix, precision_score, recall_score, f1_score\n",
    "\n",
    "# import and transform breast-cancer.csv into panda dataframe from https://www.kaggle.com/datasets/yasserh/breast-cancer-dataset/data\n",
    "breast_cancer= pd.read_csv('breast-cancer.csv')\n",
    "#print(breast_cancer.columns)\n",
    "#breast_cancer.head() shows that  we need to transform the values in diagnosis from M to 1  and B to 0 \n",
    "breast_cancer['diagnosis']= breast_cancer['diagnosis'].str.replace(pat=\"M\",repl=\"1\",regex=False)\n",
    "breast_cancer['diagnosis']= breast_cancer['diagnosis'].str.replace(pat=\"B\",repl=\"0\",regex=False)\n",
    "breast_cancer['diagnosis'] = breast_cancer['diagnosis'].astype(int)\n",
    "\n",
    "# scale features using the StandarScaler from sklearn\n",
    "scaler=StandardScaler()\n",
    "breast_cancer.iloc[:,2:] = scaler.fit_transform(breast_cancer.iloc[:,2:])\n",
    "# breast_cancer.head() shows the new transformed values\n",
    "                                        \n",
    "\n",
    "# split data into X for features and y for Labels \n",
    "X= breast_cancer.drop(columns=['id','diagnosis'], axis=1)\n",
    "y= breast_cancer['diagnosis']\n",
    "\n",
    "# split data into trainig and testing sets\n",
    "X_train, X_test, y_train, y_test = train_test_split(X, y, test_size=0.20, random_state=5)\n",
    "\n",
    "# Build and train Logistic Regression Model\n",
    "model= LogisticRegression()\n",
    "model.fit(X_train,y_train)\n",
    "\n",
    "# Make predictions for X_test\n",
    "y_pred= model.predict(X_test)\n",
    "\n",
    "print(accuracy_score(y_test,y_pred)) #97,37%\n",
    "print(precision_score(y_test,y_pred)) #97,89%\n",
    "print(recall_score(y_test,y_pred)) #95,83%\n",
    "print(confusion_matrix(y_test,y_pred))\n",
    "\n",
    "# Build and train an optimized SVM-Model\n",
    "SVM_model= SVC(probability=True)\n",
    "\n",
    "svm_param = {\"C\": [.01, .1, 1, 5, 10, 100],             \n",
    "             \"gamma\": [.01, .1, 1, 5, 10, 100],\n",
    "             \"kernel\": [\"rbf\"],\n",
    "             \"random_state\": [1]}\n",
    "\n",
    "cv = RepeatedStratifiedKFold(n_splits=10, n_repeats=3, random_state=1)\n",
    "\n",
    "RCV = RandomizedSearchCV(SVM_model, svm_param, n_iter=36, scoring='roc_auc', n_jobs=-1, cv=5, random_state=1)\n",
    "\n",
    "SVM_model = RCV.fit(X_train, y_train).best_estimator_\n",
    "\n",
    "# Make predictions for X_test\n",
    "SVM_y_pred= SVM_model.predict(X_test)\n",
    "pred_prob = SVM.predict_proba(X_test)\n",
    "\n",
    "\n",
    "print(accuracy_score(y_test,SVM_y_pred)) # 97.37%\n",
    "print(f1_score(y_test,SVM_y_pred)) # 96,68%\n",
    "print(confusion_matrix(y_test,SVM_y_pred))\n"
   ]
  },
  {
   "cell_type": "code",
   "execution_count": null,
   "id": "52b04c04-f773-4274-aead-3b8e57649246",
   "metadata": {},
   "outputs": [],
   "source": [
    "breast_cancer"
   ]
  }
 ],
 "metadata": {
  "kernelspec": {
   "display_name": "Python 3 (ipykernel)",
   "language": "python",
   "name": "python3"
  },
  "language_info": {
   "codemirror_mode": {
    "name": "ipython",
    "version": 3
   },
   "file_extension": ".py",
   "mimetype": "text/x-python",
   "name": "python",
   "nbconvert_exporter": "python",
   "pygments_lexer": "ipython3",
   "version": "3.11.7"
  }
 },
 "nbformat": 4,
 "nbformat_minor": 5
}
